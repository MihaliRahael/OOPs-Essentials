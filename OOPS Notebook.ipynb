{
 "cells": [
  {
   "cell_type": "markdown",
   "id": "5cef2e3a",
   "metadata": {},
   "source": [
    "#### In OOPs, an Instance is an object that belongs to a class. An object is a generic thing while an instance is a single object that has been created in memory.\n",
    "#### Attributes is variables and method is a function\n",
    "#### Class variables (like global variable) are different from instance variable (which is unique for each instance)\n",
    "#### When we create methods inside the class, the first argument will be the instance itself automatically \n",
    "#### By convention, method will call instance as 'self'.\n",
    "#### __init__ method will run everytime we create an instance for the class."
   ]
  },
  {
   "cell_type": "markdown",
   "id": "c47951fe",
   "metadata": {},
   "source": [
    "## Classes Instances, class variables and instance variables"
   ]
  },
  {
   "cell_type": "code",
   "execution_count": 16,
   "id": "fc33ca23",
   "metadata": {},
   "outputs": [
    {
     "name": "stdout",
     "output_type": "stream",
     "text": [
      "3\n"
     ]
    }
   ],
   "source": [
    "num : int =3\n",
    "print (num)\n",
    "\n",
    "class Generic:\n",
    "    pass\n",
    "\n",
    "record : Generic = None  # Just like we defined num of datatype int, record is of type Generic class. record is an instance"
   ]
  },
  {
   "cell_type": "code",
   "execution_count": 2,
   "id": "86adebc8",
   "metadata": {},
   "outputs": [
    {
     "name": "stdout",
     "output_type": "stream",
     "text": [
      "Corey Schafer\n",
      "50000\n",
      "52000\n"
     ]
    }
   ],
   "source": [
    "class Employee:\n",
    "    \n",
    "    raise_amount = 1.04   # This is class variable. Unlike instance variable, Class variable will be common for all instances\n",
    "    no_of_emps = 0  # for calculating the no of employees\n",
    "    \n",
    "    def __init__(self, first, last, pay):  \n",
    "        self.first = first\n",
    "        self.last = last\n",
    "        self.email = first + '.' + last + '@email.com'\n",
    "        self.pay = pay\n",
    "        \n",
    "        Employee.no_of_emps += 1   # init method will run everytime whenever a new instance gets created. Make use of it, we can count it.\n",
    "        \n",
    "# Why we used Employee.variable instaed of self.variable ? cos we need to override the variable value and which will be constant throughout the all instances. \n",
    "\n",
    "    def fullname(self):\n",
    "        return '{} {}'.format(self.first, self.last)\n",
    "    \n",
    "    def apply_raise(self):   \n",
    "        self.pay = int(self.pay * Employee.raise_amount) \n",
    "        \n",
    "# there are two ways to access class variable. One is as shown above ie class_name.variable_name.\n",
    "# Second is self.class_variable_name. This is confusing right? \n",
    "# If raise_amount is class variable how can we access it through instance?\n",
    "\n",
    "print (Employee.no_of_emps)  # will print 0\n",
    "\n",
    "emp_1 = Employee('Corey', 'Schafer', 50000)\n",
    "emp_2 = Employee('Test', 'Employee', 60000)\n",
    "\n",
    "print (Employee.no_of_emps)  # will print 2\n",
    "\n",
    "print(emp_1.fullname())  # we dont need to pass argument since it will be taken as self.\n",
    "Employee.fullname(emp_2)  # But when we call a method inside a class using class, class doesnt know the instance to operate.\n",
    "\n",
    "print (emp_1.pay)\n",
    "emp_1.apply_raise()\n",
    "print (emp_1.pay)\n",
    "\n",
    "# Understanding accessing class attribute through various approaches\n",
    "\n",
    "print(Employee.raise_amount)\n",
    "print(emp_1.raise_amount)\n",
    "print(emp_2.raise_amount)\n",
    "\n",
    "# Note that raise_amount is an attribute of class not of instance's. Then how it accessed? \n",
    "# Whenever an instance calls an attribute, It first checks in instance itself and if its not present, \n",
    "# it will check the class it inherits from, contains the attribute\n",
    "\n",
    "# Another interesting observation occurs while printing the namespaces of instance\n",
    "\n",
    "print(emp_1.__dict__)  # will print all instance variables in dict format but no class variables.\n",
    "print(Employee.__dict__) # will print class variables\n",
    "\n",
    "Employee.raise_amount = 1.1  # this will change the variable value for both class and instances.\n",
    "emp1_.raise_amount = 1.5  # this will change the variable value only ffor emp_1 instance. Not globally"
   ]
  },
  {
   "cell_type": "markdown",
   "id": "8c2e32b3",
   "metadata": {},
   "source": [
    "## Regular methods, Static methods and class methods"
   ]
  },
  {
   "cell_type": "markdown",
   "id": "82c09d16",
   "metadata": {},
   "source": [
    "##### Regular methods in a class automatically take the instance as the first argument and by convention we are calling this 'self'. How can we change this ? Using class method just by adding a decorator @classmethod. Here we take class as the first argument instead of instance, by using the conventional keyword 'cls'. Static method is just like a normal fucntion which neither take self nor cls as argument but we include them in class cos it will have some logical connection with the class.\n"
   ]
  },
  {
   "cell_type": "code",
   "execution_count": null,
   "id": "9b5f566c",
   "metadata": {},
   "outputs": [],
   "source": [
    "class Employee:\n",
    "    \n",
    "    raise_amount = 1.04 \n",
    "    @classmethod\n",
    "    def set_raise_amt(cls, amount):\n",
    "        cls.raise_amount = amount\n",
    "\n",
    "# Create instances here\n",
    "\n",
    "Employee.set_raise_amt(2.5)  # just need to pass amount argument since forst argument is automatically taken as cls.\n",
    "# Now th class variable has updated. So all the 3 below o/ps will be 2.5 not 1.04\n",
    "print(Employee.raise_amount)\n",
    "print(emp_1.raise_amount)\n",
    "print(emp_2.raise_amount)\n",
    "\n",
    "# The below statement we have seen earlier above will also set class variable globally. But here we saw using @classmethod\n",
    "Employee.raise_amount = 1.1  # this will change the variable value for both class and instances.\n",
    "\n",
    "emp_1.set_raise_amt(3)  # this is not common but this will also change class variable globally due to the inheritance property. \n",
    "\n",
    "\n",
    "## Use case of class method is for alternative constructor\n",
    "\n",
    "emp_3_str ='John-Doe-7000'\n",
    "emp_4_str ='David-Miller-5000'\n",
    "emp_5_str ='Tempa-Bavuma-9000'\n",
    "first, last, pay= emp_3_str.split('-')\n",
    "new_emp_3 = Employee(first, last, pay)  # This will call init method and create new class for this new employee\n",
    "\n",
    "# Since this can be a common use case whoever using the class, we dont want to parse the string everytime a new employee is getting created as shown above\n",
    "# So lets create an alternative constructor\n",
    "\n",
    "    @classmethod\n",
    "    def from_string(cls, emp_str):\n",
    "        first, last, pay= emp_str.split('-')\n",
    "        return cls(first, last, pay)  # created new employee from string and return the new employee object\n",
    "\n",
    "new_emp_3 = Employee.from_string(emp_3_str)  # created new employee 3 using classmethod\n",
    "\n",
    "\n",
    "## Static method\n",
    "# Lets say we need a simple fucntion which takes a date and return whether it is a work day\n",
    "# this use case has a logical connection with our class but it doesnt actually depends on any class or instance variable\n",
    "\n",
    "  @staticmethod\n",
    "    def is_workday(day):\n",
    "        if day.weekday() == 5 or day.weekday() == 6:  # In python data has this weekday metjod where monday =0 and sunday =6\n",
    "            return False \n",
    "        return True\n",
    "    \n",
    "import datetime\n",
    "my_date = datetime.date(2016, 7, 11)\n",
    "\n",
    "print(Employee.is_workday(my_date))"
   ]
  },
  {
   "cell_type": "markdown",
   "id": "5e091969",
   "metadata": {},
   "source": [
    "## Inheritance - Creating Subclasses, isinstance, issubclass"
   ]
  },
  {
   "cell_type": "code",
   "execution_count": 6,
   "id": "5782f190",
   "metadata": {},
   "outputs": [
    {
     "name": "stdout",
     "output_type": "stream",
     "text": [
      "Sue.Smith@email.com\n",
      "--> Corey Schafer\n",
      "--> Test Employee\n",
      "*******************\n",
      "--> Corey Schafer\n",
      "True\n",
      "False\n",
      "True\n"
     ]
    }
   ],
   "source": [
    "# Lets create two new classes Developer and Manager subclasses\n",
    "\n",
    "class Employee:\n",
    "\n",
    "    raise_amt = 1.04\n",
    "\n",
    "    def __init__(self, first, last, pay):\n",
    "        self.first = first\n",
    "        self.last = last\n",
    "        self.email = first + '.' + last + '@email.com'\n",
    "        self.pay = pay\n",
    "\n",
    "    def fullname(self):\n",
    "        return '{} {}'.format(self.first, self.last)\n",
    "\n",
    "    def apply_raise(self):\n",
    "        self.pay = int(self.pay * self.raise_amt)\n",
    "\n",
    "\n",
    "class Developer(Employee):\n",
    "    raise_amt = 1.10\n",
    "\n",
    "    def __init__(self, first, last, pay, prog_lang):\n",
    "        super().__init__(first, last, pay)  # Calling parent class for initializing these variables.\n",
    "        # Employee.__init__(self, first, last, pay)  # This is another way of calling parent class.\n",
    "        self.prog_lang = prog_lang\n",
    "\n",
    "\n",
    "class Manager(Employee):\n",
    "\n",
    "    def __init__(self, first, last, pay, employees=None):  # employees is the list of employess this supervisor would manage.\n",
    "        super().__init__(first, last, pay)\n",
    "        if employees is None:\n",
    "            self.employees = []\n",
    "        else:\n",
    "            self.employees = employees\n",
    "\n",
    "    def add_emp(self, emp):    # to add new employee to the list\n",
    "        if emp not in self.employees:\n",
    "            self.employees.append(emp)\n",
    "\n",
    "    def remove_emp(self, emp):    # to remove employee from the list\n",
    "        if emp in self.employees:\n",
    "            self.employees.remove(emp)\n",
    "\n",
    "    def print_emps(self):\n",
    "        for emp in self.employees:\n",
    "            print('-->', emp.fullname())\n",
    "\n",
    "\n",
    "dev_1 = Developer('Corey', 'Schafer', 50000, 'Python')\n",
    "dev_2 = Developer('Test', 'Employee', 60000, 'Java')\n",
    "\n",
    "mgr_1 = Manager('Sue', 'Smith', 90000, [dev_1])\n",
    "\n",
    "print(mgr_1.email)\n",
    "\n",
    "mgr_1.add_emp(dev_2)\n",
    "mgr_1.print_emps()\n",
    "print ('*******************')\n",
    "mgr_1.remove_emp(dev_2)\n",
    "mgr_1.print_emps()\n",
    "\n",
    "\n",
    "print (isinstance(mgr_1, Manager))  # is the object mgr_1 an instance of class Manager?  Returns True\n",
    "print (isinstance(mgr_1, Developer))  # Returns False. Even both Manager and Developer are subclasses of Employee, they are not related\n",
    "\n",
    "print (issubclass(Developer, Employee))  \n"
   ]
  },
  {
   "cell_type": "markdown",
   "id": "ac20e84e",
   "metadata": {},
   "source": [
    "### Property Decorators - Getters, Setters & Deleters"
   ]
  },
  {
   "cell_type": "code",
   "execution_count": 15,
   "id": "3b71af0c",
   "metadata": {},
   "outputs": [
    {
     "name": "stdout",
     "output_type": "stream",
     "text": [
      "Jim\n",
      "John.Smith@email.com\n",
      "Jim Smith\n"
     ]
    }
   ],
   "source": [
    "class Employee:\n",
    "\n",
    "    def __init__(self, first, last):\n",
    "        self.first = first\n",
    "        self.last = last\n",
    "        self.email = first + '.' + last + '@email.com'\n",
    "        \n",
    "    def fullname(self):\n",
    "        return '{} {}'.format(self.first, self.last)\n",
    "    \n",
    "emp_1 = Employee('John','Smith')\n",
    "emp_1.first = 'Jim'\n",
    "\n",
    "print(emp_1.first)\n",
    "print(emp_1.email)\n",
    "print(emp_1.fullname())\n",
    "\n",
    "# Why the o/p like this ?"
   ]
  },
  {
   "cell_type": "code",
   "execution_count": 11,
   "id": "c918ba3e",
   "metadata": {},
   "outputs": [
    {
     "name": "stdout",
     "output_type": "stream",
     "text": [
      "Corey\n",
      "Corey.Schafer@email.com\n",
      "Corey Schafer\n",
      "Delete Name!\n"
     ]
    }
   ],
   "source": [
    "# Using property decorator we can define access a method inside a class as an attribute\n",
    "# fullname is a method inside class using property decorator. But we cant use this to set the value for fullname as shown below \n",
    "class Employee:\n",
    "\n",
    "    def __init__(self, first, last):\n",
    "        self.first = first\n",
    "        self.last = last\n",
    "\n",
    "    @property\n",
    "    def email(self):\n",
    "        return '{}.{}@email.com'.format(self.first, self.last)\n",
    "\n",
    "    @property\n",
    "    def fullname(self):\n",
    "        return '{} {}'.format(self.first, self.last)\n",
    "    \n",
    "    @fullname.setter\n",
    "    def fullname(self, name):\n",
    "        first, last = name.split(' ')\n",
    "        self.first = first\n",
    "        self.last = last\n",
    "    \n",
    "    @fullname.deleter\n",
    "    def fullname(self):\n",
    "        print('Delete Name!')\n",
    "        self.first = None\n",
    "        self.last = None\n",
    "\n",
    "\n",
    "emp_1 = Employee('John', 'Smith')\n",
    "\n",
    "emp_1.fullname = \"Corey Schafer\"  # property decorator alone willonot allow to initialize like this. We should use setter for this ability\n",
    "\n",
    "print(emp_1.first)\n",
    "print(emp_1.email)   # accessing as attribute\n",
    "print(emp_1.fullname)\n",
    "\n",
    "del emp_1.fullname"
   ]
  },
  {
   "cell_type": "markdown",
   "id": "512e1fda",
   "metadata": {},
   "source": [
    "### Special Methods of Magic/Dunder"
   ]
  },
  {
   "cell_type": "code",
   "execution_count": null,
   "id": "8f0874b7",
   "metadata": {},
   "outputs": [],
   "source": [
    "# Function surrounded by double underscores\n",
    "# Usually when we print an instance like print(instance we get o/p as \"__main__.Employee object at memory location\" \n",
    "# Instead if we want to print in a descent way we can use dunder\n",
    "# __repr__ is meant to be an unambiguous representation of the object and should be use for debugging and logging.\n",
    "# __str__ is more of a readable representation of an object and it is meant to be used as a display to the end user\n"
   ]
  },
  {
   "cell_type": "code",
   "execution_count": 10,
   "id": "ea412c6a",
   "metadata": {},
   "outputs": [
    {
     "name": "stdout",
     "output_type": "stream",
     "text": [
      "Employee('Corey', 'Schafer', 50000)\n",
      "Corey Schafer - Corey.Schafer@email.com\n",
      "Corey Schafer - Corey.Schafer@email.com\n",
      "110000\n",
      "13\n"
     ]
    }
   ],
   "source": [
    "class Employee:\n",
    "\n",
    "    raise_amt = 1.04\n",
    "\n",
    "    def __init__(self, first, last, pay):\n",
    "        self.first = first\n",
    "        self.last = last\n",
    "        self.email = first + '.' + last + '@email.com'\n",
    "        self.pay = pay\n",
    "\n",
    "    def fullname(self):\n",
    "        return '{} {}'.format(self.first, self.last)\n",
    "\n",
    "    def apply_raise(self):\n",
    "        self.pay = int(self.pay * self.raise_amt)\n",
    "\n",
    "    def __repr__(self): \n",
    "        return \"Employee('{}', '{}', {})\".format(self.first, self.last, self.pay)\n",
    "\n",
    "    def __str__(self):\n",
    "        return '{} - {}'.format(self.fullname(), self.email)\n",
    "\n",
    "    def __add__(self, other):\n",
    "        return self.pay + other.pay\n",
    "\n",
    "    def __len__(self):\n",
    "        return len(self.fullname())\n",
    "\n",
    "\n",
    "emp_1 = Employee('Corey', 'Schafer', 50000)\n",
    "emp_2 = Employee('Test', 'Employee', 60000)\n",
    "\n",
    "print (repr(emp_1))\n",
    "print (str(emp_1))\n",
    "print(emp_1) \n",
    "\n",
    "print(emp_1 + emp_2)\n",
    "\n",
    "print(len(emp_1))"
   ]
  },
  {
   "cell_type": "code",
   "execution_count": null,
   "id": "8d18bebb",
   "metadata": {},
   "outputs": [],
   "source": []
  }
 ],
 "metadata": {
  "kernelspec": {
   "display_name": "Python 3",
   "language": "python",
   "name": "python3"
  },
  "language_info": {
   "codemirror_mode": {
    "name": "ipython",
    "version": 3
   },
   "file_extension": ".py",
   "mimetype": "text/x-python",
   "name": "python",
   "nbconvert_exporter": "python",
   "pygments_lexer": "ipython3",
   "version": "3.8.8"
  }
 },
 "nbformat": 4,
 "nbformat_minor": 5
}
