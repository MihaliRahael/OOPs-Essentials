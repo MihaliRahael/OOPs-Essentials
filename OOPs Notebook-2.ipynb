{
 "cells": [
  {
   "cell_type": "markdown",
   "id": "beabb033",
   "metadata": {},
   "source": [
    "### Create dictionary given object"
   ]
  },
  {
   "cell_type": "code",
   "execution_count": 15,
   "id": "8d7ec52d",
   "metadata": {},
   "outputs": [
    {
     "name": "stdout",
     "output_type": "stream",
     "text": [
      "<__main__.Sensor object at 0x0000018A5B8A66D0>\n",
      "{'sensor1': 3, 'sensor2': 4}\n"
     ]
    },
    {
     "data": {
      "text/plain": [
       "{'sensor1': 3, 'sensor2': 4}"
      ]
     },
     "execution_count": 15,
     "metadata": {},
     "output_type": "execute_result"
    }
   ],
   "source": [
    "# Creating a class method which converts every new instance created in dictionary format\n",
    "class Sensor:\n",
    "    def __init__(self,):\n",
    "        self.sensor1=3\n",
    "        self.sensor2=4\n",
    "        \n",
    "    def to_dict(self):\n",
    "        return self.__dict__\n",
    "    \n",
    "sensor = Sensor()\n",
    "print(sensor)\n",
    "print(sensor.__dict__)  # in dictionary format\n",
    "sensor.to_dict()  # using the method"
   ]
  },
  {
   "cell_type": "markdown",
   "id": "e3189df5",
   "metadata": {},
   "source": [
    "## Creating an instance dynamically - create object given dictionary\n",
    "##### Creating an instance on given input data, using a class method and without 'self' initializing\n",
    "##### Generic.get_object() of Kafka producer uses this idea"
   ]
  },
  {
   "cell_type": "code",
   "execution_count": 24,
   "id": "fb3417a4",
   "metadata": {},
   "outputs": [
    {
     "data": {
      "text/html": [
       "<div>\n",
       "<style scoped>\n",
       "    .dataframe tbody tr th:only-of-type {\n",
       "        vertical-align: middle;\n",
       "    }\n",
       "\n",
       "    .dataframe tbody tr th {\n",
       "        vertical-align: top;\n",
       "    }\n",
       "\n",
       "    .dataframe thead th {\n",
       "        text-align: right;\n",
       "    }\n",
       "</style>\n",
       "<table border=\"1\" class=\"dataframe\">\n",
       "  <thead>\n",
       "    <tr style=\"text-align: right;\">\n",
       "      <th></th>\n",
       "      <th>name</th>\n",
       "      <th>designation</th>\n",
       "    </tr>\n",
       "  </thead>\n",
       "  <tbody>\n",
       "    <tr>\n",
       "      <th>0</th>\n",
       "      <td>Bonny</td>\n",
       "      <td>AIOPS</td>\n",
       "    </tr>\n",
       "    <tr>\n",
       "      <th>1</th>\n",
       "      <td>Steffy</td>\n",
       "      <td>Data Scientist</td>\n",
       "    </tr>\n",
       "  </tbody>\n",
       "</table>\n",
       "</div>"
      ],
      "text/plain": [
       "     name     designation\n",
       "0   Bonny           AIOPS\n",
       "1  Steffy  Data Scientist"
      ]
     },
     "execution_count": 24,
     "metadata": {},
     "output_type": "execute_result"
    }
   ],
   "source": [
    "import pandas as pd\n",
    "\n",
    "emp_info = {\"name\":[\"Bonny\",\"Steffy\"], \"designation\": [\"AIOPS\",\"Data Scientist\"]}  # This data is given as input\n",
    "df=pd.DataFrame(emp_info)\n",
    "df"
   ]
  },
  {
   "cell_type": "code",
   "execution_count": 29,
   "id": "a5775fd7",
   "metadata": {},
   "outputs": [
    {
     "name": "stdout",
     "output_type": "stream",
     "text": [
      "<__main__.Employee object at 0x0000018A5F49CF70>\n",
      "{'name': 'Bonny', 'designation': 'AIOPS'}\n",
      "<__main__.Employee object at 0x0000018A5F49CEE0>\n",
      "{'name': 'Steffy', 'designation': 'Data Scientist'}\n"
     ]
    },
    {
     "data": {
      "text/plain": [
       "['AIOPS', 'Data Scientist']"
      ]
     },
     "execution_count": 29,
     "metadata": {},
     "output_type": "execute_result"
    }
   ],
   "source": [
    "class Employee:\n",
    "    \n",
    "    def __init__(self,record:dict):\n",
    "        \n",
    "        for att_name, values in record.items():\n",
    "            setattr(self,att_name,values)\n",
    "            \n",
    "    @classmethod\n",
    "    def get_object(cls,record):\n",
    "        return Employee(record)\n",
    "    \n",
    "columns = df.columns\n",
    "\n",
    "for data in df.values:\n",
    "    record = dict(zip(columns,data)) # creating dictionary from csv file\n",
    "    emp = Employee.get_object(record)\n",
    "    print (emp)  # created an object for dictionary ie each entry\n",
    "    print (emp.__dict__)  # created dictionary from object\n",
    "    \n",
    "emp1 = Employee.get_object(emp_info)  \n",
    "emp1.name   # printing instance's attribute\n",
    "emp1.designation"
   ]
  },
  {
   "cell_type": "code",
   "execution_count": null,
   "id": "db9fbe15",
   "metadata": {},
   "outputs": [],
   "source": []
  },
  {
   "cell_type": "markdown",
   "id": "0fc0a421",
   "metadata": {},
   "source": [
    "## Another example used in Kafka."
   ]
  },
  {
   "cell_type": "code",
   "execution_count": 20,
   "id": "533e49d9",
   "metadata": {},
   "outputs": [
    {
     "data": {
      "text/plain": [
       "<__main__.ACSensor at 0x18a5bedb640>"
      ]
     },
     "execution_count": 20,
     "metadata": {},
     "output_type": "execute_result"
    }
   ],
   "source": [
    "class ACSensor:\n",
    "    def __init__(self,tem_s,hum_s,pre_s,pos_s,flow_s,vib_s):\n",
    "        self.tem_s=tem_s\n",
    "        self.hum_s=hum_s\n",
    "        self.pre_s=pre_s\n",
    "        self.pos_s=pos_s\n",
    "        self.flow_s=flow_s\n",
    "        self.vib_s=vib_s\n",
    "        \n",
    "    def to_dict(self):\n",
    "        return self.__dict__\n",
    "    \n",
    "Sensor_Values = ACSensor(tem_s=25, hum_s=90, pre_s=12, pos_s=101.5, flow_s=149, vib_s=3.76)\n",
    "Sensor_Values"
   ]
  },
  {
   "cell_type": "code",
   "execution_count": null,
   "id": "c15295cb",
   "metadata": {},
   "outputs": [],
   "source": [
    "# Now this is an object which i cant serialize. In order to do that, i need to convert it into the form of dictionary"
   ]
  },
  {
   "cell_type": "code",
   "execution_count": 21,
   "id": "68b1c843",
   "metadata": {},
   "outputs": [
    {
     "data": {
      "text/plain": [
       "{'tem_s': 25,\n",
       " 'hum_s': 90,\n",
       " 'pre_s': 12,\n",
       " 'pos_s': 101.5,\n",
       " 'flow_s': 149,\n",
       " 'vib_s': 3.76}"
      ]
     },
     "execution_count": 21,
     "metadata": {},
     "output_type": "execute_result"
    }
   ],
   "source": [
    "Sensor_Values.to_dict()"
   ]
  },
  {
   "cell_type": "code",
   "execution_count": null,
   "id": "8f857c4f",
   "metadata": {},
   "outputs": [],
   "source": []
  }
 ],
 "metadata": {
  "kernelspec": {
   "display_name": "Python 3",
   "language": "python",
   "name": "python3"
  },
  "language_info": {
   "codemirror_mode": {
    "name": "ipython",
    "version": 3
   },
   "file_extension": ".py",
   "mimetype": "text/x-python",
   "name": "python",
   "nbconvert_exporter": "python",
   "pygments_lexer": "ipython3",
   "version": "3.8.8"
  }
 },
 "nbformat": 4,
 "nbformat_minor": 5
}
